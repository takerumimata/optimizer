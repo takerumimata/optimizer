{
 "cells": [
  {
   "cell_type": "code",
   "execution_count": 2,
   "id": "hollywood-modem",
   "metadata": {},
   "outputs": [],
   "source": [
    "import simplex\n",
    "import numpy as np"
   ]
  },
  {
   "cell_type": "markdown",
   "id": "swedish-payday",
   "metadata": {},
   "source": [
    "## 問題設定\n",
    "\n",
    "max:    X_1 + 2 * X_2  \n",
    "s.t.:   X_1 >= 0  \n",
    "        X_2 >= 0  \n",
    "        X_1 + X_2 <= 6  \n",
    "        X_1 + 3 * X_2 <= 12  \n",
    "        2* X_1 + X_2 <= 10  \n"
   ]
  },
  {
   "cell_type": "code",
   "execution_count": 3,
   "id": "congressional-review",
   "metadata": {},
   "outputs": [],
   "source": [
    "_matrix = np.array(\n",
    "        [\n",
    "            [1.0, 1.0, 1.0, 0.0, 0.0, 6.0],  # 制約関数① + スラック変数①\n",
    "            [1.0, 3.0, 0.0, 1.0, 0.0, 12.0],  # 制約関数② + スラック変数②\n",
    "            [2.0, 1.0, 0.0, 0.0, 1.0, 10.0],  # 制約関数③ + スラック変数③\n",
    "            [-1.0, -2.0, 0.0, 0.0, 0.0, 0.0],  # 目的関数（ここが全部正になったらおしまい）\n",
    "        ]\n",
    "    )"
   ]
  },
  {
   "cell_type": "code",
   "execution_count": 6,
   "id": "occupational-queue",
   "metadata": {},
   "outputs": [],
   "source": [
    "obj = simplex.Simplex(matrix=_matrix)"
   ]
  },
  {
   "cell_type": "code",
   "execution_count": 7,
   "id": "empty-invention",
   "metadata": {},
   "outputs": [
    {
     "name": "stdout",
     "output_type": "stream",
     "text": [
      "--- 1回目 ---\n",
      "min: 0.0\n",
      "column: 0\n",
      "answer is 9.0\n",
      "[[ 1.   0.   1.5 -0.5  0.   3. ]\n",
      " [ 0.   1.  -0.5  0.5  0.   3. ]\n",
      " [ 0.   0.  -2.5  0.5  1.   1. ]\n",
      " [ 0.   0.   0.5  0.5  0.   9. ]]\n"
     ]
    }
   ],
   "source": [
    "obj.run()"
   ]
  },
  {
   "cell_type": "code",
   "execution_count": null,
   "id": "naval-hamilton",
   "metadata": {},
   "outputs": [],
   "source": []
  }
 ],
 "metadata": {
  "kernelspec": {
   "display_name": "python3.8.6",
   "language": "python",
   "name": "python3.8.6"
  },
  "language_info": {
   "codemirror_mode": {
    "name": "ipython",
    "version": 3
   },
   "file_extension": ".py",
   "mimetype": "text/x-python",
   "name": "python",
   "nbconvert_exporter": "python",
   "pygments_lexer": "ipython3",
   "version": "3.8.6"
  }
 },
 "nbformat": 4,
 "nbformat_minor": 5
}
